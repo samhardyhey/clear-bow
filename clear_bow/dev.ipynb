{
 "cells": [
  {
   "cell_type": "code",
   "execution_count": null,
   "metadata": {},
   "outputs": [],
   "source": [
    "from sklearn.feature_extraction.text import CountVectorizer\n",
    "\n",
    "# retrieve BOW vocab using usual sklearn fit method\n",
    "texts = [\"hello\", \"world\", \"this\", \"is\", \"me\"]\n",
    "cv = CountVectorizer()\n",
    "\n",
    "cv.fit(texts)\n",
    "cv.vocabulary_\n",
    "# {'hello': 0, 'world': 4, 'this': 3, 'is': 1, 'me': 2}\n",
    ""
   ]
  },
  {
   "cell_type": "code",
   "execution_count": null,
   "metadata": {},
   "outputs": [],
   "source": [
    "from sklearn.feature_extraction.text import CountVectorizer\n",
    "\n",
    "# explicitly define vocabulary at point of instantiation\n",
    "texts = [\"hello\", \"world\", \"this\", \"is\", \"me\"]\n",
    "cv = CountVectorizer(vocabulary=texts)  # err\n",
    ""
   ]
  },
  {
   "cell_type": "code",
   "execution_count": null,
   "metadata": {},
   "outputs": [],
   "source": [
    "cv.vocabulary_\n",
    "# ?cv.set_params\n",
    ""
   ]
  }
 ],
 "metadata": {
  "kernelspec": {
   "display_name": "Python 3",
   "language": "python",
   "name": "python3"
  },
  "language_info": {
   "codemirror_mode": {
    "name": "ipython",
    "version": 3
   },
   "file_extension": ".py",
   "mimetype": "text/x-python",
   "name": "python",
   "nbconvert_exporter": "python",
   "pygments_lexer": "ipython3",
   "version": "3.9.12"
  }
 },
 "nbformat": 4,
 "nbformat_minor": 2
}
