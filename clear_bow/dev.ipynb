{
 "cells": [
  {
   "cell_type": "code",
   "execution_count": 10,
   "metadata": {},
   "outputs": [
    {
     "data": {
      "text/plain": [
       "CountVectorizer()"
      ]
     },
     "execution_count": 10,
     "metadata": {},
     "output_type": "execute_result"
    },
    {
     "data": {
      "text/plain": [
       "{'hello': 0, 'world': 4, 'this': 3, 'is': 1, 'me': 2}"
      ]
     },
     "execution_count": 10,
     "metadata": {},
     "output_type": "execute_result"
    }
   ],
   "source": [
    "from sklearn.feature_extraction.text import CountVectorizer\n",
    "\n",
    "# retrieve BOW vocab using usual sklearn fit method\n",
    "texts = [\"hello\", \"world\", \"this\", \"is\", \"me\"]\n",
    "cv = CountVectorizer()\n",
    "\n",
    "cv.fit(texts)\n",
    "cv.vocabulary_\n",
    "# {'hello': 0, 'world': 4, 'this': 3, 'is': 1, 'me': 2}"
   ]
  },
  {
   "cell_type": "code",
   "execution_count": 26,
   "metadata": {},
   "outputs": [
    {
     "ename": "AttributeError",
     "evalue": "'CountVectorizer' object has no attribute 'vocabulary_'",
     "output_type": "error",
     "traceback": [
      "\u001b[0;31m---------------------------------------------------------------------------\u001b[0m",
      "\u001b[0;31mAttributeError\u001b[0m                            Traceback (most recent call last)",
      "\u001b[1;32m/Users/samhardy/Desktop/clear-bow/clear_bow/dev.ipynb Cell 2'\u001b[0m in \u001b[0;36m<cell line: 6>\u001b[0;34m()\u001b[0m\n\u001b[1;32m      <a href='vscode-notebook-cell:/Users/samhardy/Desktop/clear-bow/clear_bow/dev.ipynb#ch0000002?line=3'>4</a>\u001b[0m texts \u001b[39m=\u001b[39m [\u001b[39m\"\u001b[39m\u001b[39mhello\u001b[39m\u001b[39m\"\u001b[39m, \u001b[39m\"\u001b[39m\u001b[39mworld\u001b[39m\u001b[39m\"\u001b[39m, \u001b[39m\"\u001b[39m\u001b[39mthis\u001b[39m\u001b[39m\"\u001b[39m, \u001b[39m\"\u001b[39m\u001b[39mis\u001b[39m\u001b[39m\"\u001b[39m, \u001b[39m\"\u001b[39m\u001b[39mme\u001b[39m\u001b[39m\"\u001b[39m]\n\u001b[1;32m      <a href='vscode-notebook-cell:/Users/samhardy/Desktop/clear-bow/clear_bow/dev.ipynb#ch0000002?line=4'>5</a>\u001b[0m cv \u001b[39m=\u001b[39m CountVectorizer(vocabulary\u001b[39m=\u001b[39mtexts)\n\u001b[0;32m----> <a href='vscode-notebook-cell:/Users/samhardy/Desktop/clear-bow/clear_bow/dev.ipynb#ch0000002?line=5'>6</a>\u001b[0m cv\u001b[39m.\u001b[39;49mvocabulary_\n",
      "\u001b[0;31mAttributeError\u001b[0m: 'CountVectorizer' object has no attribute 'vocabulary_'"
     ]
    }
   ],
   "source": [
    "from sklearn.feature_extraction.text import CountVectorizer\n",
    "\n",
    "# explicitly define vocabulary at point of instantiation\n",
    "texts = [\"hello\", \"world\", \"this\", \"is\", \"me\"]\n",
    "cv = CountVectorizer(vocabulary=texts)  # err\n"
   ]
  },
  {
   "cell_type": "code",
   "execution_count": 25,
   "metadata": {},
   "outputs": [
    {
     "data": {
      "text/plain": [
       "{'hello': 0, 'world': 4, 'this': 3, 'is': 1, 'me': 2}"
      ]
     },
     "execution_count": 25,
     "metadata": {},
     "output_type": "execute_result"
    }
   ],
   "source": [
    "cv.vocabulary_\n",
    "# ?cv.set_params"
   ]
  }
 ],
 "metadata": {
  "kernelspec": {
   "display_name": "Python 3",
   "language": "python",
   "name": "python3"
  },
  "language_info": {
   "codemirror_mode": {
    "name": "ipython",
    "version": 3
   },
   "file_extension": ".py",
   "mimetype": "text/x-python",
   "name": "python",
   "nbconvert_exporter": "python",
   "pygments_lexer": "ipython3",
   "version": "3.9.12"
  }
 },
 "nbformat": 4,
 "nbformat_minor": 2
}
