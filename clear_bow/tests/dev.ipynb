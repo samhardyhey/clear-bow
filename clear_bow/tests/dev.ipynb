{
 "cells": [
  {
   "cell_type": "code",
   "execution_count": null,
   "metadata": {},
   "outputs": [],
   "source": [
    "from sklearn.feature_extraction.text import CountVectorizer\n",
    "\n",
    "# retrieve BOW vocab using usual sklearn fit method\n",
    "texts = [\"hello\", \"world\", \"this\", \"is\", \"me\"]\n",
    "cv = CountVectorizer()\n",
    "\n",
    "cv.fit(texts)\n",
    "cv.vocabulary_\n",
    "# {'hello': 0, 'world': 4, 'this': 3, 'is': 1, 'me': 2}\n",
    ""
   ]
  },
  {
   "cell_type": "code",
   "execution_count": null,
   "metadata": {},
   "outputs": [],
   "source": [
    "from sklearn.feature_extraction.text import CountVectorizer\n",
    "\n",
    "# explicitly define vocabulary at point of instantiation\n",
    "texts = [\"hello\", \"world\", \"this\", \"is\", \"me\"]\n",
    "cv = CountVectorizer(vocabulary=texts)  # err\n",
    ""
   ]
  },
  {
   "cell_type": "code",
   "execution_count": null,
   "metadata": {},
   "outputs": [],
   "source": [
    "cv.vocabulary_\n",
    "# ?cv.set_params\n",
    ""
   ]
  },
  {
   "cell_type": "code",
   "execution_count": null,
   "metadata": {},
   "outputs": [],
   "source": [
    "import pandas as pd\n",
    "\n",
    "query = \"\"\"(super AND amg super) OR (super AND australian catholic super) OR (super AND australiansuper) OR (super AND aware super) OR (super AND cbus) OR (super AND caresuper) OR (super AND colonial first estate) OR (super AND eiss super) OR (super AND energysuper) OR (super AND equipsuper) OR (super AND firststate super growth) OR (super AND future super) OR (super AND guild super) OR (super AND hesta super fund) OR (super AND hostplus) OR (super AND intrust) OR (super AND lgiasuper)                  20\n",
    "(banking AND suncorp) OR (banking AND teachers mutual bank) OR (banking AND westpac)\"\"\"\n",
    "\n",
    "\n",
    "df = (\n",
    "    pd.read_csv(\"/Users/samhardy/Desktop/data/2021_reddit_all_industries.csv\")\n",
    "    .query('subreddit == \"AusFinance\"')\n",
    "    .pipe(lambda x: x[x[\"query\"].str.contains(\"(super AND amg super)\")])\n",
    "    .pipe(lambda x: x[~x.body.isna()])\n",
    "    .drop_duplicates(\"body\")\n",
    "    .pipe(lambda x: x[x.body.apply(lambda y: len(y) <= 150)])\n",
    "    .pipe(lambda x: x[x.body.apply(lambda y: len(y) >= 50)])\n",
    "    .sample(n=200, random_state=42)\n",
    "    .reset_index(drop=True)\n",
    ")\n",
    ""
   ]
  },
  {
   "cell_type": "code",
   "execution_count": null,
   "metadata": {},
   "outputs": [],
   "source": [
    "df.to_csv(\"/Users/samhardy/Desktop/data/2021_reddit_filtered.csv\", index=False)\n",
    ""
   ]
  },
  {
   "cell_type": "code",
   "execution_count": null,
   "metadata": {},
   "outputs": [],
   "source": [
    "super_dict = {\n",
    "    \"regulation\": [\"asic\", \"government\", \"federal\", \"tax\"],\n",
    "    \"contribution\": [\n",
    "        \"contribution\",\n",
    "        \"concession\",\n",
    "        \"personal\",\n",
    "        \"after tax\",\n",
    "        \"10%\",\n",
    "        \"10.5%\",\n",
    "    ],\n",
    "    \"covid\": [\"covid\", \"lockdown\", \"downturn\", \"effect\"],\n",
    "    \"retirement\": [\"retire\", \"house\", \"annuity\", \"age\"],\n",
    "    \"fund\": [\n",
    "        \"unisuper\",\n",
    "        \"aus super\",\n",
    "        \"australian super\",\n",
    "        \"sun super\",\n",
    "        \"qsuper\",\n",
    "        \"rest\",\n",
    "        \"cbus\",\n",
    "    ],\n",
    "}\n",
    ""
   ]
  },
  {
   "cell_type": "code",
   "execution_count": null,
   "metadata": {},
   "outputs": [],
   "source": [
    "res = {\n",
    "    \"regulation\": 0.0878,\n",
    "    \"contribution\": 0.6488,\n",
    "    \"covid\": 0.0878,\n",
    "    \"retirement\": 0.0878,\n",
    "    \"fund\": 0.0878,\n",
    "}\n",
    "\n",
    "sum(res.values())\n",
    ""
   ]
  },
  {
   "cell_type": "code",
   "execution_count": null,
   "metadata": {},
   "outputs": [],
   "source": [
    "from clear_bow.classifier import DictionaryClassifier\n",
    "\n",
    "super_dict = {\n",
    "    \"regulation\": [\"asic\", \"government\", \"federal\", \"tax\"],\n",
    "    \"contribution\": [\n",
    "        \"contribution\",\n",
    "        \"concession\",\n",
    "        \"personal\",\n",
    "        \"after tax\",\n",
    "        \"10%\",\n",
    "        \"10.5%\",\n",
    "    ],\n",
    "    \"covid\": [\"covid\", \"lockdown\", \"downturn\", \"effect\"],\n",
    "    \"retirement\": [\"retire\", \"house\", \"annuity\", \"age\"],\n",
    "    \"fund\": [\n",
    "        \"unisuper\",\n",
    "        \"aus super\",\n",
    "        \"australian super\",\n",
    "        \"sun super\",\n",
    "        \"qsuper\",\n",
    "        \"rest\",\n",
    "        \"cbus\",\n",
    "    ],\n",
    "}\n",
    "dc = DictionaryClassifier(label_dictionary=super_dict)  # multi-class by default\n",
    "dc.predict_single(\"A 10% contribution is not enough for a well balanced super fund!\")\n",
    "# # {'regulation': 0.0878,\n",
    "# #  'contribution': 0.6488,\n",
    "# #  'covid': 0.0878,\n",
    "# #  'retirement': 0.0878,\n",
    "# #  'fund': 0.0878}\n",
    "\n",
    "\n",
    "# dc.predict_batch(\n",
    "#     [\n",
    "#         \"A 10% contribution is not enough for a well balanced super fund!\",\n",
    "#         \"Australian government should stay the hell out of my retirement plans!\",\n",
    "#     ]\n",
    "# )\n",
    "# # [{'regulation': 0.0878,\n",
    "# #   'contribution': 0.6488,\n",
    "# #   'covid': 0.0878,\n",
    "# #   'retirement': 0.0878,\n",
    "# #   'fund': 0.0878},\n",
    "# #  {'regulation': 0.3222,\n",
    "# #   'contribution': 0.1185,\n",
    "# #   'covid': 0.1185,\n",
    "# #   'retirement': 0.3222,\n",
    "# #   'fund': 0.1185}]\n",
    ""
   ]
  },
  {
   "cell_type": "code",
   "execution_count": null,
   "metadata": {},
   "outputs": [],
   "source": [
    "# serialise\n",
    "dc.to_disk(\"/Users/samhardy/Desktop/dict_classifier\")\n",
    "\n",
    "dc = DictionaryClassifier(\"/Users/samhardy/Desktop/dict_classifier\")\n",
    ""
   ]
  },
  {
   "cell_type": "code",
   "execution_count": null,
   "metadata": {},
   "outputs": [],
   "source": [
    "dc._get_label_word_count(\n",
    "    \"A 10% contribution is not enough for a well balanced super fund!\"\n",
    ")\n",
    ""
   ]
  },
  {
   "cell_type": "code",
   "execution_count": null,
   "metadata": {},
   "outputs": [],
   "source": [
    "import numpy as np\n",
    "\n",
    "list(\n",
    "    {\n",
    "        \"regulation\": 0,\n",
    "        \"contribution\": 2,\n",
    "        \"covid\": 0,\n",
    "        \"retirement\": 0,\n",
    "        \"fund\": 0,\n",
    "    }.values()\n",
    ")\n",
    ""
   ]
  },
  {
   "cell_type": "code",
   "execution_count": null,
   "metadata": {},
   "outputs": [],
   "source": [
    "preds = pd.DataFrame(list(df.body.apply(dc.predict_single)))\n",
    "\n",
    "for e in super_dict.keys():\n",
    "    mask = preds[e] > 0.3\n",
    "    df[mask].head(3).body.tolist()\n",
    ""
   ]
  },
  {
   "cell_type": "code",
   "execution_count": null,
   "metadata": {},
   "outputs": [],
   "source": [
    "x = [\n",
    "    [\n",
    "        \"And before Asic politely reminded them they cannot provide financial advice\",\n",
    "        \"Taxes are not fees. They are a federal government tax.\",\n",
    "        \"That's some other government's problem.\",\n",
    "    ],\n",
    "    [\n",
    "        \"Mate you get 15% tax on concessional contributions in super.\\n\\nSo no surprise it adds up to over 15%.\",\n",
    "        \"Personal insurance and health insurance cover different things too.\",\n",
    "        \"Is the \u2018income\u2019 figure for this before or after tax?\",\n",
    "    ],\n",
    "    [\n",
    "        \"Message from Covid 19: \u201cdon\u2019t touch your face, don\u2019t touch your super\u201d\",\n",
    "        \"It would be better than having an imaginary jetski that I can't use after the lockdown\",\n",
    "    ],\n",
    "    [\n",
    "        \"Not really unless you will retire fairly soon\",\n",
    "        \"If you need a house, you need a house. I would suggest trying to top it back up when you can.\",\n",
    "        \"Message from Covid 19: \u201cdon\u2019t touch your face, don\u2019t touch your super\u201d\",\n",
    "    ],\n",
    "    [\n",
    "        \"I'm not a Financial expert but Australian super are one of the bigger better options I guess\",\n",
    "        \"No but considering moving I\u2019m with unisuper at the moment their a closed fund\",\n",
    "        \"Sun Super all the way\",\n",
    "    ],\n",
    "]\n",
    "\n",
    "\n",
    "example_docs = [item for sublist in x for item in sublist]\n",
    ""
   ]
  },
  {
   "cell_type": "code",
   "execution_count": null,
   "metadata": {},
   "outputs": [],
   "source": [
    "import random\n",
    "\n",
    "random.shuffle(example_docs)\n",
    "\n",
    "example_docs\n",
    ""
   ]
  },
  {
   "cell_type": "code",
   "execution_count": null,
   "metadata": {},
   "outputs": [],
   "source": [
    "def _transform_predict_dict(self, pred_dict):\n",
    "    # if all word counts are 0\n",
    "    if all(x == 0 for x in pred_dict.values()):\n",
    "        prob_dict = {k: 0.0 for k in pred_dict.keys()}\n",
    "        prob_dict[\"no_label\"] = 1.0\n",
    "        return prob_dict\n",
    "\n",
    "    elif self.classifier_type == \"multi_class\":\n",
    "        return dict(\n",
    "            zip(pred_dict.keys(), self._softmax_array(list(pred_dict.values())))\n",
    "        )\n",
    "\n",
    "    elif self.classifier_type == \"multi_label\":\n",
    "        return dict(\n",
    "            zip(pred_dict.keys(), self._sigmoid_array(list(pred_dict.values())))\n",
    "        )\n",
    ""
   ]
  }
 ],
 "metadata": {
  "kernelspec": {
   "display_name": "Python 3",
   "language": "python",
   "name": "python3"
  },
  "language_info": {
   "codemirror_mode": {
    "name": "ipython",
    "version": 3
   },
   "file_extension": ".py",
   "mimetype": "text/x-python",
   "name": "python",
   "nbconvert_exporter": "python",
   "pygments_lexer": "ipython3",
   "version": "3.9.12"
  }
 },
 "nbformat": 4,
 "nbformat_minor": 2
}
