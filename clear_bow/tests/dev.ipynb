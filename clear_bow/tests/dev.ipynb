{
 "cells": [
  {
   "cell_type": "code",
   "execution_count": null,
   "metadata": {},
   "outputs": [],
   "source": [
    "from sklearn.feature_extraction.text import CountVectorizer\n",
    "\n",
    "# retrieve BOW vocab using usual sklearn fit method\n",
    "texts = [\"hello\", \"world\", \"this\", \"is\", \"me\"]\n",
    "cv = CountVectorizer()\n",
    "\n",
    "cv.fit(texts)\n",
    "cv.vocabulary_\n",
    "# {'hello': 0, 'world': 4, 'this': 3, 'is': 1, 'me': 2}\n"
   ]
  },
  {
   "cell_type": "code",
   "execution_count": null,
   "metadata": {},
   "outputs": [],
   "source": [
    "from sklearn.feature_extraction.text import CountVectorizer\n",
    "\n",
    "# explicitly define vocabulary at point of instantiation\n",
    "texts = [\"hello\", \"world\", \"this\", \"is\", \"me\"]\n",
    "cv = CountVectorizer(vocabulary=texts)  # err\n"
   ]
  },
  {
   "cell_type": "code",
   "execution_count": null,
   "metadata": {},
   "outputs": [],
   "source": [
    "cv.vocabulary_\n",
    "# ?cv.set_params\n"
   ]
  },
  {
   "cell_type": "code",
   "execution_count": 4,
   "metadata": {},
   "outputs": [],
   "source": [
    "import pandas as pd\n",
    "\n",
    "df = pd.read_csv(\"/Users/samhardy/Desktop/otso-nlp-util/tests/data/test_dataset.csv\")\n"
   ]
  },
  {
   "cell_type": "code",
   "execution_count": 58,
   "metadata": {},
   "outputs": [
    {
     "name": "stderr",
     "output_type": "stream",
     "text": [
      "/var/folders/wc/l2_1jymx3m398ydltqtl1nf80000gn/T/ipykernel_89220/3565190106.py:10: UserWarning: This pattern is interpreted as a regular expression, and has match groups. To actually get the groups, use str.extract.\n",
      "  .pipe(lambda x: x[x[\"query\"].str.contains(\"(super AND amg super)\")])\n"
     ]
    }
   ],
   "source": [
    "query = \"\"\"(super AND amg super) OR (super AND australian catholic super) OR (super AND australiansuper) OR (super AND aware super) OR (super AND cbus) OR (super AND caresuper) OR (super AND colonial first estate) OR (super AND eiss super) OR (super AND energysuper) OR (super AND equipsuper) OR (super AND firststate super growth) OR (super AND future super) OR (super AND guild super) OR (super AND hesta super fund) OR (super AND hostplus) OR (super AND intrust) OR (super AND lgiasuper)                  20\n",
    "(banking AND suncorp) OR (banking AND teachers mutual bank) OR (banking AND westpac)\"\"\"\n",
    "\n",
    "\n",
    "df = (\n",
    "    pd.read_csv(\n",
    "        \"/Users/samhardy/Downloads/otso-data-bruce/bruce_base_modelling/data/reddit/2021_07_27/transformed_data/2021_reddit_all_industries.csv\"\n",
    "    )\n",
    "    .query('subreddit == \"AusFinance\"')\n",
    "    .pipe(lambda x: x[x[\"query\"].str.contains(\"(super AND amg super)\")])\n",
    "    .pipe(lambda x: x[~x.body.isna()])\n",
    "    .drop_duplicates(\"body\")\n",
    "    .pipe(lambda x: x[x.body.apply(lambda y: len(y) <= 100)])\n",
    "    .pipe(lambda x: x[x.body.apply(lambda y: len(y) >= 20)])\n",
    "    .sample(n=100, random_state=42)\n",
    "    .reset_index(drop=True)\n",
    ")\n"
   ]
  },
  {
   "cell_type": "code",
   "execution_count": 5,
   "metadata": {},
   "outputs": [
    {
     "data": {
      "text/plain": [
       "{'regulation': 0.0878,\n",
       " 'contribution': 0.6488,\n",
       " 'covid': 0.0878,\n",
       " 'retirement': 0.0878,\n",
       " 'fund': 0.0878}"
      ]
     },
     "execution_count": 5,
     "metadata": {},
     "output_type": "execute_result"
    },
    {
     "data": {
      "text/plain": [
       "[{'regulation': 0.0878,\n",
       "  'contribution': 0.6488,\n",
       "  'covid': 0.0878,\n",
       "  'retirement': 0.0878,\n",
       "  'fund': 0.0878},\n",
       " {'regulation': 0.3222,\n",
       "  'contribution': 0.1185,\n",
       "  'covid': 0.1185,\n",
       "  'retirement': 0.3222,\n",
       "  'fund': 0.1185}]"
      ]
     },
     "execution_count": 5,
     "metadata": {},
     "output_type": "execute_result"
    }
   ],
   "source": [
    "from clear_bow.classifier import DictionaryClassifier\n",
    "\n",
    "super_dict = {\n",
    "    \"regulation\": [\"asic\", \"government\", \"federal\", \"tax\"],\n",
    "    \"contribution\": [\"contribution\", \"concession\", \"personal\", \"after tax\", \"10%\", \"10.5%\"],\n",
    "    \"covid\": [\"covid\", \"lockdown\", \"downturn\", \"effect\"],\n",
    "    \"retirement\": [\"retire\", \"house\", \"annuity\", \"age\"],\n",
    "    \"fund\": [\"unisuper\", \"aus super\", \"australian super\", \"sun super\", \"qsuper\", \"rest\", \"cbus\"],\n",
    "}\n",
    "dc = DictionaryClassifier(label_dictionary=super_dict)  # multi-class by default\n",
    "dc.predict_single(\"A 10% contribution is not enough for a well balanced super fund!\")\n",
    "# {'regulation': 0.0878,\n",
    "#  'contribution': 0.6488,\n",
    "#  'covid': 0.0878,\n",
    "#  'retirement': 0.0878,\n",
    "#  'fund': 0.0878}\n",
    "\n",
    "\n",
    "dc.predict_batch(\n",
    "    [\n",
    "        \"A 10% contribution is not enough for a well balanced super fund!\",\n",
    "        \"Australian government should stay the hell out of my retirement plans!\",\n",
    "    ]\n",
    ")\n",
    "# [{'regulation': 0.0878,\n",
    "#   'contribution': 0.6488,\n",
    "#   'covid': 0.0878,\n",
    "#   'retirement': 0.0878,\n",
    "#   'fund': 0.0878},\n",
    "#  {'regulation': 0.3222,\n",
    "#   'contribution': 0.1185,\n",
    "#   'covid': 0.1185,\n",
    "#   'retirement': 0.3222,\n",
    "#   'fund': 0.1185}]\n"
   ]
  },
  {
   "cell_type": "code",
   "execution_count": 71,
   "metadata": {},
   "outputs": [
    {
     "data": {
      "text/plain": [
       "['And before Asic politely reminded them they cannot provide financial advice',\n",
       " 'Taxes are not fees. They are a federal government tax.',\n",
       " \"That's some other government's problem.\"]"
      ]
     },
     "execution_count": 71,
     "metadata": {},
     "output_type": "execute_result"
    },
    {
     "data": {
      "text/plain": [
       "['Mate you get 15% tax on concessional contributions in super.\\n\\nSo no surprise it adds up to over 15%.',\n",
       " 'Personal insurance and health insurance cover different things too.',\n",
       " 'Is the ‘income’ figure for this before or after tax?']"
      ]
     },
     "execution_count": 71,
     "metadata": {},
     "output_type": "execute_result"
    },
    {
     "data": {
      "text/plain": [
       "['Message from Covid 19: “don’t touch your face, don’t touch your super”',\n",
       " \"It would be better than having an imaginary jetski that I can't use after the lockdown\"]"
      ]
     },
     "execution_count": 71,
     "metadata": {},
     "output_type": "execute_result"
    },
    {
     "data": {
      "text/plain": [
       "['Not really unless you will retire fairly soon',\n",
       " 'If you need a house, you need a house. I would suggest trying to top it back up when you can.',\n",
       " 'Message from Covid 19: “don’t touch your face, don’t touch your super”']"
      ]
     },
     "execution_count": 71,
     "metadata": {},
     "output_type": "execute_result"
    },
    {
     "data": {
      "text/plain": [
       "[\"I'm not a Financial expert but Australian super are one of the bigger better options I guess\",\n",
       " 'No but considering moving I’m with unisuper at the moment their a closed fund',\n",
       " 'Sun Super all the way']"
      ]
     },
     "execution_count": 71,
     "metadata": {},
     "output_type": "execute_result"
    }
   ],
   "source": [
    "preds = pd.DataFrame(list(df.body.apply(dc.predict_single)))\n",
    "\n",
    "for e in super_dict.keys():\n",
    "    mask = preds[e] > 0.3\n",
    "    df[mask].head(3).body.tolist()"
   ]
  },
  {
   "cell_type": "code",
   "execution_count": 74,
   "metadata": {},
   "outputs": [],
   "source": [
    "x = [\n",
    "    [\n",
    "        \"And before Asic politely reminded them they cannot provide financial advice\",\n",
    "        \"Taxes are not fees. They are a federal government tax.\",\n",
    "        \"That's some other government's problem.\",\n",
    "    ],\n",
    "    [\n",
    "        \"Mate you get 15% tax on concessional contributions in super.\\n\\nSo no surprise it adds up to over 15%.\",\n",
    "        \"Personal insurance and health insurance cover different things too.\",\n",
    "        \"Is the ‘income’ figure for this before or after tax?\",\n",
    "    ],\n",
    "    [\n",
    "        \"Message from Covid 19: “don’t touch your face, don’t touch your super”\",\n",
    "        \"It would be better than having an imaginary jetski that I can't use after the lockdown\",\n",
    "    ],\n",
    "    [\n",
    "        \"Not really unless you will retire fairly soon\",\n",
    "        \"If you need a house, you need a house. I would suggest trying to top it back up when you can.\",\n",
    "        \"Message from Covid 19: “don’t touch your face, don’t touch your super”\",\n",
    "    ],\n",
    "    [\n",
    "        \"I'm not a Financial expert but Australian super are one of the bigger better options I guess\",\n",
    "        \"No but considering moving I’m with unisuper at the moment their a closed fund\",\n",
    "        \"Sun Super all the way\",\n",
    "    ],\n",
    "]\n",
    "\n",
    "\n",
    "example_docs = [item for sublist in x for item in sublist]\n"
   ]
  },
  {
   "cell_type": "code",
   "execution_count": 77,
   "metadata": {},
   "outputs": [
    {
     "data": {
      "text/plain": [
       "[\"I'm not a Financial expert but Australian super are one of the bigger better options I guess\",\n",
       " 'Mate you get 15% tax on concessional contributions in super.\\n\\nSo no surprise it adds up to over 15%.',\n",
       " 'Is the ‘income’ figure for this before or after tax?',\n",
       " 'Message from Covid 19: “don’t touch your face, don’t touch your super”',\n",
       " \"It would be better than having an imaginary jetski that I can't use after the lockdown\",\n",
       " 'Not really unless you will retire fairly soon',\n",
       " \"That's some other government's problem.\",\n",
       " 'Sun Super all the way',\n",
       " 'Message from Covid 19: “don’t touch your face, don’t touch your super”',\n",
       " 'And before Asic politely reminded them they cannot provide financial advice',\n",
       " 'Personal insurance and health insurance cover different things too.',\n",
       " 'If you need a house, you need a house. I would suggest trying to top it back up when you can.',\n",
       " 'Taxes are not fees. They are a federal government tax.',\n",
       " 'No but considering moving I’m with unisuper at the moment their a closed fund']"
      ]
     },
     "execution_count": 77,
     "metadata": {},
     "output_type": "execute_result"
    }
   ],
   "source": [
    "import random\n",
    "\n",
    "random.shuffle(example_docs)\n",
    "\n",
    "example_docs"
   ]
  },
  {
   "cell_type": "code",
   "execution_count": 62,
   "metadata": {},
   "outputs": [
    {
     "data": {
      "text/plain": [
       "0     False\n",
       "1     False\n",
       "2      True\n",
       "3     False\n",
       "4     False\n",
       "      ...  \n",
       "95    False\n",
       "96    False\n",
       "97     True\n",
       "98    False\n",
       "99    False\n",
       "Name: fund, Length: 100, dtype: bool"
      ]
     },
     "execution_count": 62,
     "metadata": {},
     "output_type": "execute_result"
    }
   ],
   "source": [
    "mask"
   ]
  }
 ],
 "metadata": {
  "kernelspec": {
   "display_name": "Python 3",
   "language": "python",
   "name": "python3"
  },
  "language_info": {
   "codemirror_mode": {
    "name": "ipython",
    "version": 3
   },
   "file_extension": ".py",
   "mimetype": "text/x-python",
   "name": "python",
   "nbconvert_exporter": "python",
   "pygments_lexer": "ipython3",
   "version": "3.9.12"
  }
 },
 "nbformat": 4,
 "nbformat_minor": 2
}
